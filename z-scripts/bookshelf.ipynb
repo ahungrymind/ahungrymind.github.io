{
 "cells": [
  {
   "cell_type": "code",
   "execution_count": null,
   "id": "66995263",
   "metadata": {
    "vscode": {
     "languageId": "plaintext"
    }
   },
   "outputs": [],
   "source": [
    "import numpy as np\n",
    "\n",
    "data = np.loadtxt('your_file.csv', delimiter=',', skiprows=1)  # skip header if needed\n",
    "col1 = data[:, 0]\n",
    "col2 = data[:, 1]\n",
    "col3 = data[:, 2]"
   ]
  }
 ],
 "metadata": {
  "language_info": {
   "name": "python"
  }
 },
 "nbformat": 4,
 "nbformat_minor": 5
}
